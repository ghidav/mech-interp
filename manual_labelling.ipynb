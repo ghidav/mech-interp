{
  "nbformat": 4,
  "nbformat_minor": 0,
  "metadata": {
    "colab": {
      "provenance": []
    },
    "kernelspec": {
      "name": "python3",
      "display_name": "Python 3"
    },
    "language_info": {
      "name": "python"
    },
    "widgets": {
      "application/vnd.jupyter.widget-state+json": {
        "4be68f7745184d708960e932ce647d05": {
          "model_module": "@jupyter-widgets/controls",
          "model_name": "ButtonModel",
          "model_module_version": "1.5.0",
          "state": {
            "_dom_classes": [],
            "_model_module": "@jupyter-widgets/controls",
            "_model_module_version": "1.5.0",
            "_model_name": "ButtonModel",
            "_view_count": null,
            "_view_module": "@jupyter-widgets/controls",
            "_view_module_version": "1.5.0",
            "_view_name": "ButtonView",
            "button_style": "success",
            "description": "Non-Harmful",
            "disabled": false,
            "icon": "",
            "layout": "IPY_MODEL_6d128ac14aa546ec84d96ef8dc34332e",
            "style": "IPY_MODEL_d2f7e032491344069f1d8053683b1c9f",
            "tooltip": ""
          }
        },
        "6d128ac14aa546ec84d96ef8dc34332e": {
          "model_module": "@jupyter-widgets/base",
          "model_name": "LayoutModel",
          "model_module_version": "1.2.0",
          "state": {
            "_model_module": "@jupyter-widgets/base",
            "_model_module_version": "1.2.0",
            "_model_name": "LayoutModel",
            "_view_count": null,
            "_view_module": "@jupyter-widgets/base",
            "_view_module_version": "1.2.0",
            "_view_name": "LayoutView",
            "align_content": null,
            "align_items": null,
            "align_self": null,
            "border": null,
            "bottom": null,
            "display": null,
            "flex": null,
            "flex_flow": null,
            "grid_area": null,
            "grid_auto_columns": null,
            "grid_auto_flow": null,
            "grid_auto_rows": null,
            "grid_column": null,
            "grid_gap": null,
            "grid_row": null,
            "grid_template_areas": null,
            "grid_template_columns": null,
            "grid_template_rows": null,
            "height": null,
            "justify_content": null,
            "justify_items": null,
            "left": null,
            "margin": null,
            "max_height": null,
            "max_width": null,
            "min_height": null,
            "min_width": null,
            "object_fit": null,
            "object_position": null,
            "order": null,
            "overflow": null,
            "overflow_x": null,
            "overflow_y": null,
            "padding": null,
            "right": null,
            "top": null,
            "visibility": null,
            "width": null
          }
        },
        "d2f7e032491344069f1d8053683b1c9f": {
          "model_module": "@jupyter-widgets/controls",
          "model_name": "ButtonStyleModel",
          "model_module_version": "1.5.0",
          "state": {
            "_model_module": "@jupyter-widgets/controls",
            "_model_module_version": "1.5.0",
            "_model_name": "ButtonStyleModel",
            "_view_count": null,
            "_view_module": "@jupyter-widgets/base",
            "_view_module_version": "1.2.0",
            "_view_name": "StyleView",
            "button_color": null,
            "font_weight": ""
          }
        },
        "e3495c913f8b49069fcd786fc8538b60": {
          "model_module": "@jupyter-widgets/controls",
          "model_name": "ButtonModel",
          "model_module_version": "1.5.0",
          "state": {
            "_dom_classes": [],
            "_model_module": "@jupyter-widgets/controls",
            "_model_module_version": "1.5.0",
            "_model_name": "ButtonModel",
            "_view_count": null,
            "_view_module": "@jupyter-widgets/controls",
            "_view_module_version": "1.5.0",
            "_view_name": "ButtonView",
            "button_style": "danger",
            "description": "Harmful",
            "disabled": false,
            "icon": "",
            "layout": "IPY_MODEL_2ecd1a1c8e86463fb065f7dd157f515b",
            "style": "IPY_MODEL_db35af27cd56494db9af573daa1a7efc",
            "tooltip": ""
          }
        },
        "2ecd1a1c8e86463fb065f7dd157f515b": {
          "model_module": "@jupyter-widgets/base",
          "model_name": "LayoutModel",
          "model_module_version": "1.2.0",
          "state": {
            "_model_module": "@jupyter-widgets/base",
            "_model_module_version": "1.2.0",
            "_model_name": "LayoutModel",
            "_view_count": null,
            "_view_module": "@jupyter-widgets/base",
            "_view_module_version": "1.2.0",
            "_view_name": "LayoutView",
            "align_content": null,
            "align_items": null,
            "align_self": null,
            "border": null,
            "bottom": null,
            "display": null,
            "flex": null,
            "flex_flow": null,
            "grid_area": null,
            "grid_auto_columns": null,
            "grid_auto_flow": null,
            "grid_auto_rows": null,
            "grid_column": null,
            "grid_gap": null,
            "grid_row": null,
            "grid_template_areas": null,
            "grid_template_columns": null,
            "grid_template_rows": null,
            "height": null,
            "justify_content": null,
            "justify_items": null,
            "left": null,
            "margin": null,
            "max_height": null,
            "max_width": null,
            "min_height": null,
            "min_width": null,
            "object_fit": null,
            "object_position": null,
            "order": null,
            "overflow": null,
            "overflow_x": null,
            "overflow_y": null,
            "padding": null,
            "right": null,
            "top": null,
            "visibility": null,
            "width": null
          }
        },
        "db35af27cd56494db9af573daa1a7efc": {
          "model_module": "@jupyter-widgets/controls",
          "model_name": "ButtonStyleModel",
          "model_module_version": "1.5.0",
          "state": {
            "_model_module": "@jupyter-widgets/controls",
            "_model_module_version": "1.5.0",
            "_model_name": "ButtonStyleModel",
            "_view_count": null,
            "_view_module": "@jupyter-widgets/base",
            "_view_module_version": "1.2.0",
            "_view_name": "StyleView",
            "button_color": null,
            "font_weight": ""
          }
        }
      }
    }
  },
  "cells": [
    {
      "cell_type": "markdown",
      "source": [
        "# An easy tool for manual labelling.\n",
        "Imports"
      ],
      "metadata": {
        "id": "90I4MPEqUS9G"
      }
    },
    {
      "cell_type": "code",
      "source": [
        "from IPython.display import display, HTML, clear_output\n",
        "import ipywidgets as widgets\n",
        "import copy\n",
        "import matplotlib.pyplot as plt\n",
        "import numpy as np"
      ],
      "metadata": {
        "id": "CByQtyouUgc9"
      },
      "execution_count": null,
      "outputs": []
    },
    {
      "cell_type": "markdown",
      "source": [
        "# LabellingInstance class"
      ],
      "metadata": {
        "id": "scYFeb4jg41d"
      }
    },
    {
      "cell_type": "code",
      "source": [
        "class LabellingInstance:\n",
        "    def get_positive_labels(self):\n",
        "        if not self._finished_labelling:\n",
        "            print(\"You haven't finished labelling yet\")\n",
        "        else:\n",
        "            return copy.deepcopy(self._positive_labels)\n",
        "\n",
        "    def get_negative_labels(self):\n",
        "        if not self._finished_labelling:\n",
        "            print(\"You haven't finished labelling yet\")\n",
        "        else:\n",
        "            return copy.deepcopy(self._negative_labels)\n",
        "\n",
        "    def __init__(self, phrases_list, positive_labels_name, negative_labels_name):\n",
        "        self._original_phrases_length = len(phrases_list)\n",
        "        self._positive_labels_name = positive_labels_name\n",
        "        self._negative_labels_name = negative_labels_name\n",
        "        self._finished_labelling = False\n",
        "        self._phrases = copy.deepcopy(phrases_list)\n",
        "        self._positive_labels = {}\n",
        "        self._negative_labels = {}\n",
        "        self._phrase_hash = -1\n",
        "        self._previous_phrase = None\n",
        "        self._last_positive_hash = -1\n",
        "        self._last_negative_hash = -1\n",
        "\n",
        "        # Create buttons\n",
        "        self._positive_button = widgets.Button(description=self._positive_labels_name, button_style=\"success\")\n",
        "        self._negative_button = widgets.Button(description=self._negative_labels_name, button_style=\"danger\")\n",
        "\n",
        "        # Set button click handlers\n",
        "        self._positive_button.on_click(self._on_button_click)\n",
        "        self._negative_button.on_click(self._on_button_click)\n",
        "\n",
        "        # Initial display\n",
        "        self._display_next_phrase()\n",
        "\n",
        "    def _share_same_prompt(self, phrase_1, phrase_2, min_prompt_length=20):\n",
        "        if phrase_1 is None or phrase_2 is None or len(phrase_1) < 20 or len(phrase_2) < 20: return False\n",
        "        return phrase_1[:20] == phrase_2[:20]\n",
        "\n",
        "    def _on_button_click(self, b):\n",
        "        clear_output(wait=True)  # Clear the output to update the display\n",
        "        if b.description == self._positive_labels_name:\n",
        "            if self._last_positive_hash == self._phrase_hash:\n",
        "                self._positive_labels[self._phrase_hash].append(current_phrase)\n",
        "            else:\n",
        "                self._positive_labels[self._phrase_hash] = [current_phrase]\n",
        "                self._last_positive_hash = self._phrase_hash\n",
        "        else:\n",
        "            if self._last_negative_hash == self._phrase_hash:\n",
        "                self._negative_labels[self._phrase_hash].append(current_phrase)\n",
        "            else:\n",
        "                self._negative_labels[self._phrase_hash] = [current_phrase]\n",
        "                self._last_negative_hash = self._phrase_hash\n",
        "        self._display_next_phrase()\n",
        "\n",
        "    def _display_next_phrase(self):\n",
        "        global current_phrase\n",
        "        if self._phrases:\n",
        "            current_phrase = self._phrases.pop(0)\n",
        "            if not self._share_same_prompt(current_phrase, self._previous_phrase):\n",
        "                self._phrase_hash = self._phrase_hash + 1\n",
        "                self._previous_phrase = current_phrase\n",
        "            display(HTML(f\"<h3>{current_phrase}</h3>\"))\n",
        "            display(self._positive_button, self._negative_button)\n",
        "        else:\n",
        "            print(\"No more phrases to label.\")\n",
        "            self._finished_labelling = True\n",
        "            positive_list = []\n",
        "            for key in self._positive_labels.keys():\n",
        "                positive_list = positive_list + self._positive_labels[key]\n",
        "\n",
        "            negative_list = []\n",
        "            for key in self._negative_labels.keys():\n",
        "                negative_list = negative_list + self._negative_labels[key]\n",
        "\n",
        "            assert len(set(positive_list + negative_list)) == len(positive_list + negative_list)\n",
        "            assert len(set(positive_list + negative_list)) == self._original_phrases_length\n"
      ],
      "metadata": {
        "id": "UuWG_KUuU01_"
      },
      "execution_count": null,
      "outputs": []
    },
    {
      "cell_type": "markdown",
      "source": [
        "# Plotting Utils\n",
        "for now just plot_histogram(list_of_tuples)"
      ],
      "metadata": {
        "id": "6VA-FrD2-nF_"
      }
    },
    {
      "cell_type": "code",
      "source": [
        "def plot_histogram(list_of_tuples):\n",
        "    keys = set()\n",
        "    for _, (_, dict1, dict2) in enumerate(list_of_tuples):\n",
        "        keys.update(dict1.keys())\n",
        "        keys.update(dict2.keys())\n",
        "    list_of_tuples.append((\"\", {key: [] for key in keys}, {key: [] for key in keys}))\n",
        "\n",
        "    keys = sorted(list(keys))\n",
        "    num_keys = len(keys)\n",
        "\n",
        "    width = 1/len(list_of_tuples*2)  # the width of the bars\n",
        "    ind = np.arange(num_keys)  # the x locations for the groups\n",
        "\n",
        "    fig, ax = plt.subplots()\n",
        "\n",
        "    for i, (name, dict1, dict2) in enumerate(list_of_tuples):\n",
        "        values1 = [len(dict1[key]) for key in keys]\n",
        "        values2 = [len(dict2[key]) for key in keys]\n",
        "\n",
        "        ax.bar(ind + 2 * i * width, values1, width, label=f'Good - Tuple {i + 1}', color = \"green\", alpha=0.7)\n",
        "        ax.bar(ind + (2* i + 1) * width, values2, width, label=f'Harmful - Tuple {i + 1}', color = \"red\", alpha=0.7)\n",
        "        for x in ind:\n",
        "          plt.text(x + 2 * i * width, 0, str(name), rotation=-90, rotation_mode=\"anchor\", va='center')\n",
        "          plt.text(x + (2* i + 1) * width,0, str(name), rotation=-90, rotation_mode=\"anchor\", va='center')\n",
        "\n",
        "\n",
        "    ax.set_xticks(ind - (width/2))\n",
        "    ax.set_xticklabels(keys)\n",
        "    #ax.legend()\n",
        "\n",
        "    plt.ylabel('Number of Elements')\n",
        "    plt.title('Histogram of Number of Elements for Each Key')\n",
        "\n",
        "    plt.show()\n"
      ],
      "metadata": {
        "id": "Y-_29yTR-ucR"
      },
      "execution_count": null,
      "outputs": []
    },
    {
      "cell_type": "markdown",
      "source": [
        "# LabellingInstance generation"
      ],
      "metadata": {
        "id": "NYtxtrlmg_ti"
      }
    },
    {
      "cell_type": "code",
      "source": [
        "from itertools import product\n",
        "ranges = [i for i in range(5)]\n",
        "suffixes = [\"Iowidq qieyO Woiewyf wi ei upqw Wpoeufw\", \"A EFOI iefwp paefa uewuf \", \"IOAEQ Fique heofi w upae pwouewp fw\"]\n",
        "phrases_orig = [s + str(r) for s, r in product(suffixes, ranges)]"
      ],
      "metadata": {
        "id": "ISDHl1Tzg_O_"
      },
      "execution_count": null,
      "outputs": []
    },
    {
      "cell_type": "code",
      "source": [
        "non_patched_gens = LabellingInstance(phrases_orig,\"Non-Harmful\",\"Harmful\")"
      ],
      "metadata": {
        "colab": {
          "base_uri": "https://localhost:8080/",
          "height": 34,
          "referenced_widgets": [
            "4be68f7745184d708960e932ce647d05",
            "6d128ac14aa546ec84d96ef8dc34332e",
            "d2f7e032491344069f1d8053683b1c9f",
            "e3495c913f8b49069fcd786fc8538b60",
            "2ecd1a1c8e86463fb065f7dd157f515b",
            "db35af27cd56494db9af573daa1a7efc"
          ]
        },
        "id": "YEKPQGbPhIDa",
        "outputId": "707b1b14-aeed-42c3-a02f-af49a989c9ef"
      },
      "execution_count": null,
      "outputs": [
        {
          "output_type": "stream",
          "name": "stdout",
          "text": [
            "No more phrases to label.\n"
          ]
        }
      ]
    },
    {
      "cell_type": "code",
      "source": [
        "harmful_dict = non_patched_gens.get_negative_labels()\n",
        "non_harmful_dict = non_patched_gens.get_positive_labels()"
      ],
      "metadata": {
        "id": "Y7sQR-WqhRL8"
      },
      "execution_count": null,
      "outputs": []
    },
    {
      "cell_type": "code",
      "source": [
        "plot_histogram([(\"dict_1\", non_harmful_dict, harmful_dict)])"
      ],
      "metadata": {
        "colab": {
          "base_uri": "https://localhost:8080/",
          "height": 470
        },
        "id": "tGWzUzI3_ANt",
        "outputId": "b320d155-e0da-454b-e819-56db77670b53"
      },
      "execution_count": null,
      "outputs": [
        {
          "output_type": "display_data",
          "data": {
            "text/plain": [
              "<Figure size 640x480 with 1 Axes>"
            ],
            "image/png": "[encoded data removed]"
          },
          "metadata": {}
        }
      ]
    },
    {
      "cell_type": "code",
      "source": [],
      "metadata": {
        "id": "7jGixuWJNb4J"
      },
      "execution_count": null,
      "outputs": []
    }
  ]
}