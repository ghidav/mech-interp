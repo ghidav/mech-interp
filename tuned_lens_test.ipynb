{
 "cells": [
  {
   "cell_type": "code",
   "execution_count": 1,
   "metadata": {},
   "outputs": [],
   "source": [
    "from tuned_lens.causal import extract_causal_bases\n",
    "from tuned_lens.nn.lenses import TunedLens, LogitLens, Unembed\n",
    "from transformer_lens import HookedTransformer \n",
    "import torch as th\n",
    "from typing import cast, Optional\n",
    "import pandas as pd"
   ]
  },
  {
   "cell_type": "code",
   "execution_count": 2,
   "metadata": {},
   "outputs": [
    {
     "name": "stdout",
     "output_type": "stream",
     "text": [
      "Loaded pretrained model EleutherAI/pythia-160m-deduped into HookedTransformer\n"
     ]
    }
   ],
   "source": [
    "model_name = \"EleutherAI/pythia-160m-deduped\"\n",
    "model = HookedTransformer.from_pretrained(model_name, fold_ln=False, device='cuda:0')\n",
    "n_layers = len(model.blocks)"
   ]
  },
  {
   "cell_type": "code",
   "execution_count": 3,
   "metadata": {},
   "outputs": [
    {
     "data": {
      "text/plain": [
       "TunedLens(\n",
       "  (unembed): Unembed(\n",
       "    (final_norm): LayerNorm(\n",
       "      (hook_scale): HookPoint()\n",
       "      (hook_normalized): HookPoint()\n",
       "    )\n",
       "    (unembedding): Linear(in_features=768, out_features=50304, bias=True)\n",
       "  )\n",
       "  (layer_translators): ModuleList(\n",
       "    (0-11): 12 x Linear(in_features=768, out_features=768, bias=True)\n",
       "  )\n",
       ")"
      ]
     },
     "execution_count": 3,
     "metadata": {},
     "output_type": "execute_result"
    }
   ],
   "source": [
    "tuned_lens = TunedLens.from_unembed_and_pretrained(\n",
    "    unembed=Unembed(model),\n",
    "    lens_resource_id=model_name)\n",
    "logit_lens = LogitLens.from_model(model)\n",
    "tuned_lens.to('cuda:0')"
   ]
  },
  {
   "cell_type": "markdown",
   "metadata": {},
   "source": [
    "### Data loading and processing"
   ]
  },
  {
   "cell_type": "code",
   "execution_count": 4,
   "metadata": {},
   "outputs": [],
   "source": [
    "prompts = pd.read_csv('data/prompts_ds2.csv')['prompt'].values # <-- change here!"
   ]
  },
  {
   "cell_type": "code",
   "execution_count": 5,
   "metadata": {},
   "outputs": [],
   "source": [
    "def extract_cb(model, prompts, lens, k=10):\n",
    "    cb_energies = []\n",
    "    cb_vectors = []\n",
    "\n",
    "    for i in range(len(prompts)):\n",
    "        tokens = model.to_tokens(prompts[i])\n",
    "        with th.no_grad():\n",
    "            _, cache = model.run_with_cache(tokens)\n",
    "        \n",
    "        resid_post = th.cat([cache[f'blocks.{l}.hook_resid_post'] for l in range(n_layers)]) # [l p dm]\n",
    "\n",
    "        vec = []\n",
    "        ene = []\n",
    "        \n",
    "        for j in extract_causal_bases(lens, resid_post, k=k):\n",
    "            vec.append(j.vectors[None, None, ...]) # [dm k]\n",
    "            ene.append(j.energies[None, None, ...])\n",
    "\n",
    "        cb_vectors.append(th.cat(vec, dim=1)) # [l dm k]\n",
    "        cb_energies.append(th.cat(ene, dim=1))\n",
    "\n",
    "    cb_vectors = th.cat(cb_vectors, dim=0) # [prompt layer d_model k]\n",
    "    cb_energies = th.cat(cb_energies, dim=0) # [prompt layer d_model k]\n",
    "\n",
    "    return cb_vectors, cb_energies"
   ]
  },
  {
   "cell_type": "code",
   "execution_count": 6,
   "metadata": {},
   "outputs": [],
   "source": [
    "def extract_cb_all_wise(model, prompts, lens, k=10):\n",
    "\n",
    "    total_resid_post = []\n",
    "\n",
    "    for i in range(len(prompts)):\n",
    "        tokens = model.to_tokens(prompts[i])\n",
    "        with th.no_grad():\n",
    "            _, cache = model.run_with_cache(tokens)\n",
    "        \n",
    "        resid_post = th.cat([cache[f'blocks.{l}.hook_resid_post'] for l in range(n_layers)]) # [l p dm]\n",
    "        total_resid_post.append(resid_post)\n",
    "        \n",
    "    total_resid_post = th.cat(total_resid_post, dim=1)\n",
    "\n",
    "    vec = []\n",
    "    ene = []\n",
    "    \n",
    "    for j in extract_causal_bases(lens, resid_post, k=k):\n",
    "        vec.append(j.vectors[None, ...]) # [dm k]\n",
    "        ene.append(j.energies[None, ...])\n",
    "\n",
    "    vec = th.cat(vec, dim = 0) # [l dm k]\n",
    "    ene = th.cat(ene, dim = 0)\n",
    "\n",
    "    return vec, ene"
   ]
  },
  {
   "cell_type": "code",
   "execution_count": 7,
   "metadata": {},
   "outputs": [],
   "source": [
    "def extract_cb_token_wise(model, prompts, lens, k=10):\n",
    "    cb_energies = []\n",
    "    cb_vectors = []\n",
    "\n",
    "    for i in range(len(prompts)):\n",
    "        tokens = model.to_tokens(prompts[i])\n",
    "        with th.no_grad():\n",
    "            _, cache = model.run_with_cache(tokens)\n",
    "        \n",
    "        resid_post = th.cat([cache[f'blocks.{l}.hook_resid_post'] for l in range(n_layers)]) # [l p dm]\n",
    "\n",
    "        vec = []\n",
    "        ene = []\n",
    "        \n",
    "        for tok in range(resid_post.shape[1]): #for all tokens\n",
    "            tok_vec = [] \n",
    "            tok_ene = []\n",
    "\n",
    "            for j in extract_causal_bases(lens, resid_post[:, tok, None, :], k=k): #for all layers\n",
    "                tok_vec.append(j.vectors[None, None, None, ...]) # [1 1 1 dm k]\n",
    "                tok_ene.append(j.energies[None, None, None, ...])\n",
    "            \n",
    "            vec.append(th.cat(tok_vec, 2)) # [1 1 l dm k]\n",
    "            ene.append(th.cat(tok_ene, 2))\n",
    "\n",
    "        cb_vectors.append(th.cat(vec, dim=1)) # [1 p l dm k]\n",
    "        cb_energies.append(th.cat(ene, dim=1))\n",
    "\n",
    "    cb_vectors = th.cat(cb_vectors, dim=0) # [pr p l dm k]\n",
    "    cb_energies = th.cat(cb_energies, dim=0)\n",
    "\n",
    "    return cb_vectors, cb_energies"
   ]
  },
  {
   "cell_type": "code",
   "execution_count": 8,
   "metadata": {},
   "outputs": [
    {
     "data": {
      "application/vnd.jupyter.widget-view+json": {
       "model_id": "092cb534abca4bd6b97b1da1521f19d0",
       "version_major": 2,
       "version_minor": 0
      },
      "text/plain": [
       "  0%|          | 0/110 [00:00<?, ?it/s]"
      ]
     },
     "metadata": {},
     "output_type": "display_data"
    },
    {
     "data": {
      "application/vnd.jupyter.widget-view+json": {
       "model_id": "a7117622c4274afa827cbc7fb8188450",
       "version_major": 2,
       "version_minor": 0
      },
      "text/plain": [
       "  0%|          | 0/110 [00:00<?, ?it/s]"
      ]
     },
     "metadata": {},
     "output_type": "display_data"
    }
   ],
   "source": [
    "logit_lens_cb, _ = extract_cb_all_wise(model, prompts, logit_lens)\n",
    "tuned_lens_cb, _ = extract_cb_all_wise(model, prompts, tuned_lens)"
   ]
  },
  {
   "cell_type": "markdown",
   "metadata": {},
   "source": [
    "### Hooked run"
   ]
  },
  {
   "cell_type": "markdown",
   "metadata": {},
   "source": [
    "$$x' = x + P_u(\\tilde x − x)$$"
   ]
  },
  {
   "cell_type": "code",
   "execution_count": 9,
   "metadata": {},
   "outputs": [],
   "source": [
    "from transformer_lens.hook_points import HookPoint\n",
    "from jaxtyping import Float"
   ]
  },
  {
   "cell_type": "code",
   "execution_count": 10,
   "metadata": {},
   "outputs": [],
   "source": [
    "\"\"\"\n",
    "What we used before \n",
    "\n",
    "def weighted_geom_mean(p, w):\n",
    "    return torch.exp((w * torch.log(p)).sum(-1) / w.sum(-1))\n",
    "\n",
    "def aitchison_weighted_similarity(p, q, w):\n",
    "    return (w * torch.log(p / weighted_geom_mean(p, w).unsqueeze(1)) * torch.log(q / weighted_geom_mean(q, w).unsqueeze(1))).sum(-1)\n",
    "\"\"\"\n",
    "\n",
    "def aitchison(\n",
    "    log_p: th.Tensor,\n",
    "    log_q: th.Tensor,\n",
    "    *,\n",
    "    weight: Optional[th.Tensor] = None,\n",
    "    dim: int = -1\n",
    ") -> th.Tensor:\n",
    "    \"\"\"Compute the (weighted) Aitchison inner product between log probability vectors.\n",
    "    The `weight` parameter can be used to downweight rare tokens in an LM's vocabulary.\n",
    "    See 'Changing the Reference Measure in the Simplex and Its Weighting Effects' by\n",
    "    Egozcue and Pawlowsky-Glahn (2016) for discussion.\n",
    "    \"\"\"\n",
    "    # Normalize the weights to sum to 1 if necessary\n",
    "    if weight is not None:\n",
    "        weight = weight / weight.sum(dim=dim, keepdim=True)\n",
    "\n",
    "    # Project to Euclidean space...\n",
    "    x = _clr(log_p, weight, dim=dim)\n",
    "    y = _clr(log_q, weight, dim=dim)\n",
    "\n",
    "    # Then compute the weighted dot product\n",
    "    return _weighted_mean(x * y, weight, dim=dim)\n",
    "\n",
    "\n",
    "def aitchison_similarity(\n",
    "    log_p: th.Tensor,\n",
    "    log_q: th.Tensor,\n",
    "    *,\n",
    "    weight: Optional[th.Tensor] = None,\n",
    "    dim: int = -1,\n",
    "    eps: float = 1e-8\n",
    ") -> th.Tensor:\n",
    "    \"\"\"Cosine similarity of log probability vectors with the Aitchison inner product.\n",
    "    Specifically, we compute <p, q> / max(||p|| * ||q||, eps), where ||p|| is the norm\n",
    "    induced by the Aitchison inner product: sqrt(<p, p>).\n",
    "    \"\"\"\n",
    "    affinity = aitchison(log_p, log_q, weight=weight, dim=dim)\n",
    "    norm_p = aitchison(log_p, log_p, weight=weight, dim=dim).sqrt()\n",
    "    norm_q = aitchison(log_q, log_q, weight=weight, dim=dim).sqrt()\n",
    "    return affinity / (norm_p * norm_q).clamp_min(eps)\n",
    "\n",
    "\n",
    "def _clr(\n",
    "    log_y: th.Tensor, weight: Optional[th.Tensor] = None, dim: int = -1\n",
    ") -> th.Tensor:\n",
    "    \"\"\"Apply a (weighted) centered logratio transform to a log probability vector.\n",
    "    This is equivalent to subtracting the geometric mean in log space, and it is one of\n",
    "    three main isomorphisms between the simplex and (n-1) dimensional Euclidean space.\n",
    "    See https://en.wikipedia.org/wiki/Compositional_data#Linear_transformations for\n",
    "    more information.\n",
    "    Args:\n",
    "        log_y: A log composition vector\n",
    "        weight: A normalized vector of non-negative weights to use for the geometric\n",
    "            mean. If `None`, a uniform reference distribution will be used.\n",
    "        dim: The dimension along which to compute the geometric mean.\n",
    "    Returns:\n",
    "        The centered logratio vector.\n",
    "    \"\"\"\n",
    "    # The geometric mean is simply the arithmetic mean in log space\n",
    "    return log_y - _weighted_mean(log_y, weight, dim=dim).unsqueeze(dim)\n",
    "\n",
    "\n",
    "def _weighted_mean(\n",
    "    x: th.Tensor, weight: Optional[th.Tensor] = None, dim: int = -1\n",
    ") -> th.Tensor:\n",
    "    \"\"\"Compute a weighted mean if `weight` is not `None`, else the unweighted mean.\"\"\"\n",
    "    if weight is None:\n",
    "        return x.mean(dim=dim)\n",
    "\n",
    "    # NOTE: `weight` is assumed to be non-negative and sum to 1.\n",
    "    return x.mul(weight).sum(dim=dim)"
   ]
  },
  {
   "cell_type": "code",
   "execution_count": 18,
   "metadata": {},
   "outputs": [],
   "source": [
    "from functools import partial\n",
    "\n",
    "def generate_aitchisons(prompts, lens, causal_basis):\n",
    "\n",
    "    def subspace_ablation_hook(\n",
    "        rs: Float[th.Tensor, \"batch pos d_model\"],\n",
    "        hook: HookPoint,\n",
    "        pos: list,\n",
    "        subspace: Float[th.Tensor, \"d_model k\"],\n",
    "        sampled_rs: Float[th.Tensor, \"batch pos k\"]\n",
    "    ) -> Float[th.Tensor, \"batch pos d_model\"]:\n",
    "\n",
    "        assert th.allclose(th.norm(subspace, dim=0), th.ones_like(th.norm(subspace, dim=0)), atol = 1e-8) \n",
    "\n",
    "        ablation = th.zeros_like(rs[:,pos,:])\n",
    "        delta = rs[:, pos, :] - sampled_rs[:,pos,:] # batch d_model\n",
    "\n",
    "        P_u = subspace @ subspace.T #d_mod, d_mod\n",
    "        rs[:, pos, :] = rs[:, pos, :] + (P_u @ delta.T).T  \n",
    "\n",
    "        return rs + ablation\n",
    "\n",
    "\n",
    "    # Hooked run\n",
    "    model.reset_hooks(including_permanent=True)\n",
    "    sample_idx = th.randperm(len(prompts))\n",
    "\n",
    "    _, pre_cache = model.run_with_cache(model.to_tokens(prompts[-1]))\n",
    "    similarities = []\n",
    "    for i, idx in enumerate(sample_idx):\n",
    "        tokens = model.to_tokens(prompts[i])\n",
    "\n",
    "        # Clean cache\n",
    "        with th.no_grad():\n",
    "            _, clean_cache = model.run_with_cache(tokens)\n",
    "        clean_rs = th.cat([clean_cache[f'blocks.{l}.hook_resid_post'] for l in range(n_layers)], 0) # [l p dm]\n",
    "        clean_logits = clean_cache[f'ln_final.hook_normalized'] # [1 p dm]\n",
    "\n",
    "        # Hooked cache\n",
    "        hooked_lens = []\n",
    "        hooked_logits = None\n",
    "\n",
    "        for l in range(n_layers-1):\n",
    "\n",
    "            hooked_lens_layer = []\n",
    "            hooked_logit_layer = []\n",
    "            \n",
    "            for p in range(len(tokens)):\n",
    "                model.reset_hooks(including_permanent = True)\n",
    "\n",
    "                temp_ablation_fn = partial(subspace_ablation_hook, pos=p, subspace=causal_basis[i, l], sampled_rs=pre_cache[f'blocks.{l}.hook_resid_post'])\n",
    "                model.blocks[l].hook_resid_post.add_hook(temp_ablation_fn) \n",
    "\n",
    "                with th.no_grad():\n",
    "                    _, hooked_cache = model.run_with_cache(tokens)\n",
    "                hooked_lens_layer.append(hooked_cache[f'blocks.{l}.hook_resid_post'][:,p,:]) # [1 dm]\n",
    "                hooked_logit_layer.append(hooked_cache[f'ln_final.hook_normalized'][:,p,:]) # [1 dm]\n",
    "\n",
    "            del hooked_cache\n",
    "\n",
    "            #th cat with layer\n",
    "            hooked_lens.append(th.cat(hooked_lens_layer, dim=0)[None, ...]) #[1 p dm]\n",
    "            if hooked_logits is None:\n",
    "                hooked_logits = th.cat(hooked_logit_layer, dim=0)[None, ...] # [1 p dm]\n",
    "                    \n",
    "        # Compute Aitchison similarity\n",
    "        simil = []\n",
    "\n",
    "        response = th.softmax(th.log(model.unembed(hooked_logits).softmax(-1) + 1e-16) - th.log(model.unembed(clean_logits).softmax(-1) + 1e-16), -1)[0] # [p dv]\n",
    "        w = model.unembed(clean_logits).softmax(-1)[0]\n",
    "\n",
    "        for l in range(n_layers-1):\n",
    "            with th.no_grad():\n",
    "                stimuli = th.softmax(th.log(lens(hooked_lens[l], l).softmax(-1) + 1e-16) - th.log(lens(clean_rs[l], l).softmax(-1) + 1e-16), -1) # [p dv]\n",
    "            \n",
    "            simil.append((aitchison_similarity(th.log(stimuli), th.log(response), weight=w)).mean(-1)[None])\n",
    "\n",
    "        pre_cache = clean_cache\n",
    "\n",
    "        similarities.append(th.cat(simil)[None, ...]) # l\n",
    "    \n",
    "    return th.cat(similarities, dim = 0) # batch l"
   ]
  },
  {
   "cell_type": "code",
   "execution_count": 19,
   "metadata": {},
   "outputs": [],
   "source": [
    "from functools import partial\n",
    "\n",
    "def generate_aitchisons_all(prompts, lens, causal_basis):\n",
    "\n",
    "    def subspace_ablation_hook(\n",
    "        rs: Float[th.Tensor, \"batch pos d_model\"],\n",
    "        hook: HookPoint,\n",
    "        pos: list,\n",
    "        subspace: Float[th.Tensor, \"d_model k\"],\n",
    "        sampled_rs: Float[th.Tensor, \"batch pos k\"]\n",
    "    ) -> Float[th.Tensor, \"batch pos d_model\"]:\n",
    "\n",
    "        assert th.allclose(th.norm(subspace, dim=0), th.ones_like(th.norm(subspace, dim=0)), atol = 1e-8) \n",
    "\n",
    "        ablation = th.zeros_like(rs[:,pos,:])\n",
    "        delta = rs[:, pos, :] - sampled_rs[:,pos,:] # batch d_model\n",
    "\n",
    "        P_u = subspace @ subspace.T #d_mod, d_mod\n",
    "        rs[:, pos, :] = rs[:, pos, :] + (P_u @ delta.T).T\n",
    "\n",
    "        return rs + ablation\n",
    "\n",
    "\n",
    "    # Hooked run\n",
    "    model.reset_hooks(including_permanent=True)\n",
    "    sample_idx = th.randperm(len(prompts))\n",
    "\n",
    "    _, pre_cache = model.run_with_cache(model.to_tokens(prompts[-1]))\n",
    "    similarities = []\n",
    "    for i, idx in enumerate(sample_idx):\n",
    "        tokens = model.to_tokens(prompts[i])\n",
    "\n",
    "        # Clean cache\n",
    "        with th.no_grad():\n",
    "            _, clean_cache = model.run_with_cache(tokens)\n",
    "        clean_rs = th.cat([clean_cache[f'blocks.{l}.hook_resid_post'] for l in range(n_layers)], 0) # [l p dm]\n",
    "        clean_logits = clean_cache[f'ln_final.hook_normalized'] # [1 p dm]\n",
    "\n",
    "        # Hooked cache\n",
    "        hooked_lens = []\n",
    "        hooked_logits = []\n",
    "\n",
    "        for l in range(n_layers-1):\n",
    "\n",
    "            hooked_lens_layer = []\n",
    "            hooked_logit_layer = []\n",
    "            \n",
    "            for p in range(len(tokens)):\n",
    "                model.reset_hooks(including_permanent=True)\n",
    "\n",
    "                temp_ablation_fn = partial(subspace_ablation_hook, pos=p, subspace=causal_basis[l], sampled_rs=pre_cache[f'blocks.{l}.hook_resid_post'])\n",
    "                model.blocks[l].hook_resid_post.add_hook(temp_ablation_fn) \n",
    "\n",
    "                with th.no_grad():\n",
    "                    _, hooked_cache = model.run_with_cache(tokens)\n",
    "                hooked_lens_layer.append(hooked_cache[f'blocks.{l}.hook_resid_post'][:,p,:]) # [1 dm]\n",
    "                hooked_logit_layer.append(hooked_cache[f'ln_final.hook_normalized'][:,p,:]) # [1 dm]\n",
    "\n",
    "            del hooked_cache\n",
    "\n",
    "            #th cat with layer\n",
    "            hooked_lens.append(th.cat(hooked_lens_layer, dim=0)[None, ...]) #[l p dm]\n",
    "            hooked_logits.append(th.cat(hooked_logit_layer, dim=0)[None, ...]) # [l p dm]\n",
    "                    \n",
    "        # Compute Aitchison similarity\n",
    "        simil = []\n",
    "\n",
    "        response = th.softmax(th.log(model.unembed(hooked_logits).softmax(-1) + 1e-16) - th.log(model.unembed(clean_logits).softmax(-1) + 1e-16), -1)[0] # [p dv]\n",
    "        w = model.unembed(clean_logits).softmax(-1)[0]\n",
    "\n",
    "        for l in range(n_layers-1):\n",
    "            with th.no_grad():\n",
    "                stimuli = th.softmax(th.log(lens(hooked_lens[l], l).softmax(-1) + 1e-16) - th.log(lens(clean_rs[l], l).softmax(-1) + 1e-16), -1) # [p dv]\n",
    "            \n",
    "            simil.append((aitchison_similarity(th.log(stimuli), th.log(response), weight=w)).mean(-1)[None].cpu())\n",
    "\n",
    "        pre_cache = clean_cache\n",
    "        del clean_cache, clean_rs, clean_logits\n",
    "\n",
    "        similarities.append(th.cat(simil)[None, ...]) # l\n",
    "    \n",
    "    return th.cat(similarities, dim = 0) # batch l"
   ]
  },
  {
   "cell_type": "code",
   "execution_count": 16,
   "metadata": {},
   "outputs": [
    {
     "name": "stdout",
     "output_type": "stream",
     "text": [
      "OK\n",
      "OK\n",
      "OK\n",
      "OK\n",
      "OK\n",
      "OK\n",
      "OK\n",
      "OK\n",
      "OK\n",
      "OK\n",
      "OK\n",
      "OK\n",
      "OK\n",
      "OK\n",
      "OK\n",
      "OK\n",
      "OK\n",
      "OK\n",
      "OK\n",
      "OK\n",
      "OK\n"
     ]
    },
    {
     "ename": "KeyboardInterrupt",
     "evalue": "",
     "output_type": "error",
     "traceback": [
      "\u001b[0;31m---------------------------------------------------------------------------\u001b[0m",
      "\u001b[0;31mKeyboardInterrupt\u001b[0m                         Traceback (most recent call last)",
      "\u001b[1;32m/home/dghilardi/mip/mech-interp/tuned_lens_test.ipynb Cell 16\u001b[0m line \u001b[0;36m1\n\u001b[0;32m----> <a href='vscode-notebook-cell://ssh-remote%2B34.27.243.182/home/dghilardi/mip/mech-interp/tuned_lens_test.ipynb#X15sdnNjb2RlLXJlbW90ZQ%3D%3D?line=0'>1</a>\u001b[0m simil_tuned_lens \u001b[39m=\u001b[39m generate_aitchisons_all(prompts, tuned_lens, tuned_lens_cb)[\u001b[39m.\u001b[39m\u001b[39m.\u001b[39m\u001b[39m.\u001b[39m, \u001b[39m0\u001b[39m]\n\u001b[1;32m      <a href='vscode-notebook-cell://ssh-remote%2B34.27.243.182/home/dghilardi/mip/mech-interp/tuned_lens_test.ipynb#X15sdnNjb2RlLXJlbW90ZQ%3D%3D?line=1'>2</a>\u001b[0m simil_logit_lens \u001b[39m=\u001b[39m generate_aitchisons_all(prompts, logit_lens, logit_lens_cb)[\u001b[39m.\u001b[39m\u001b[39m.\u001b[39m\u001b[39m.\u001b[39m, \u001b[39m0\u001b[39m]\n",
      "\u001b[1;32m/home/dghilardi/mip/mech-interp/tuned_lens_test.ipynb Cell 16\u001b[0m line \u001b[0;36m5\n\u001b[1;32m     <a href='vscode-notebook-cell://ssh-remote%2B34.27.243.182/home/dghilardi/mip/mech-interp/tuned_lens_test.ipynb#X15sdnNjb2RlLXJlbW90ZQ%3D%3D?line=52'>53</a>\u001b[0m model\u001b[39m.\u001b[39mblocks[l]\u001b[39m.\u001b[39mhook_resid_post\u001b[39m.\u001b[39madd_hook(temp_ablation_fn) \n\u001b[1;32m     <a href='vscode-notebook-cell://ssh-remote%2B34.27.243.182/home/dghilardi/mip/mech-interp/tuned_lens_test.ipynb#X15sdnNjb2RlLXJlbW90ZQ%3D%3D?line=54'>55</a>\u001b[0m \u001b[39mwith\u001b[39;00m th\u001b[39m.\u001b[39mno_grad():\n\u001b[0;32m---> <a href='vscode-notebook-cell://ssh-remote%2B34.27.243.182/home/dghilardi/mip/mech-interp/tuned_lens_test.ipynb#X15sdnNjb2RlLXJlbW90ZQ%3D%3D?line=55'>56</a>\u001b[0m     _, hooked_cache \u001b[39m=\u001b[39m model\u001b[39m.\u001b[39;49mrun_with_cache(tokens)\n\u001b[1;32m     <a href='vscode-notebook-cell://ssh-remote%2B34.27.243.182/home/dghilardi/mip/mech-interp/tuned_lens_test.ipynb#X15sdnNjb2RlLXJlbW90ZQ%3D%3D?line=56'>57</a>\u001b[0m hooked_lens_layer\u001b[39m.\u001b[39mappend(hooked_cache[\u001b[39mf\u001b[39m\u001b[39m'\u001b[39m\u001b[39mblocks.\u001b[39m\u001b[39m{\u001b[39;00ml\u001b[39m}\u001b[39;00m\u001b[39m.hook_resid_post\u001b[39m\u001b[39m'\u001b[39m][:,p,:]) \u001b[39m# [1 dm]\u001b[39;00m\n\u001b[1;32m     <a href='vscode-notebook-cell://ssh-remote%2B34.27.243.182/home/dghilardi/mip/mech-interp/tuned_lens_test.ipynb#X15sdnNjb2RlLXJlbW90ZQ%3D%3D?line=57'>58</a>\u001b[0m hooked_logit_layer\u001b[39m.\u001b[39mappend(hooked_cache[\u001b[39mf\u001b[39m\u001b[39m'\u001b[39m\u001b[39mln_final.hook_normalized\u001b[39m\u001b[39m'\u001b[39m][:,p,:]) \u001b[39m# [1 dm]\u001b[39;00m\n",
      "File \u001b[0;32m~/mip/venv/lib/python3.9/site-packages/transformer_lens/HookedTransformer.py:630\u001b[0m, in \u001b[0;36mHookedTransformer.run_with_cache\u001b[0;34m(self, return_cache_object, remove_batch_dim, *model_args, **kwargs)\u001b[0m\n\u001b[1;32m    613\u001b[0m \u001b[39mdef\u001b[39;00m \u001b[39mrun_with_cache\u001b[39m(\n\u001b[1;32m    614\u001b[0m     \u001b[39mself\u001b[39m, \u001b[39m*\u001b[39mmodel_args, return_cache_object\u001b[39m=\u001b[39m\u001b[39mTrue\u001b[39;00m, remove_batch_dim\u001b[39m=\u001b[39m\u001b[39mFalse\u001b[39;00m, \u001b[39m*\u001b[39m\u001b[39m*\u001b[39mkwargs\n\u001b[1;32m    615\u001b[0m ) \u001b[39m-\u001b[39m\u001b[39m>\u001b[39m Tuple[\n\u001b[0;32m   (...)\u001b[0m\n\u001b[1;32m    622\u001b[0m     Union[ActivationCache, Dict[\u001b[39mstr\u001b[39m, torch\u001b[39m.\u001b[39mTensor]],\n\u001b[1;32m    623\u001b[0m ]:\n\u001b[1;32m    624\u001b[0m \u001b[39m    \u001b[39m\u001b[39m\"\"\"Wrapper around `run_with_cache` in HookedRootModule.\u001b[39;00m\n\u001b[1;32m    625\u001b[0m \n\u001b[1;32m    626\u001b[0m \u001b[39m    If return_cache_object is True, this will return an ActivationCache object, with a bunch of\u001b[39;00m\n\u001b[1;32m    627\u001b[0m \u001b[39m    useful HookedTransformer specific methods, otherwise it will return a dictionary of\u001b[39;00m\n\u001b[1;32m    628\u001b[0m \u001b[39m    activations as in HookedRootModule.\u001b[39;00m\n\u001b[1;32m    629\u001b[0m \u001b[39m    \"\"\"\u001b[39;00m\n\u001b[0;32m--> 630\u001b[0m     out, cache_dict \u001b[39m=\u001b[39m \u001b[39msuper\u001b[39;49m()\u001b[39m.\u001b[39;49mrun_with_cache(\n\u001b[1;32m    631\u001b[0m         \u001b[39m*\u001b[39;49mmodel_args, remove_batch_dim\u001b[39m=\u001b[39;49mremove_batch_dim, \u001b[39m*\u001b[39;49m\u001b[39m*\u001b[39;49mkwargs\n\u001b[1;32m    632\u001b[0m     )\n\u001b[1;32m    633\u001b[0m     \u001b[39mif\u001b[39;00m return_cache_object:\n\u001b[1;32m    634\u001b[0m         cache \u001b[39m=\u001b[39m ActivationCache(\n\u001b[1;32m    635\u001b[0m             cache_dict, \u001b[39mself\u001b[39m, has_batch_dim\u001b[39m=\u001b[39m\u001b[39mnot\u001b[39;00m remove_batch_dim\n\u001b[1;32m    636\u001b[0m         )\n",
      "File \u001b[0;32m~/mip/venv/lib/python3.9/site-packages/transformer_lens/hook_points.py:469\u001b[0m, in \u001b[0;36mHookedRootModule.run_with_cache\u001b[0;34m(self, names_filter, device, remove_batch_dim, incl_bwd, reset_hooks_end, clear_contexts, *model_args, **model_kwargs)\u001b[0m\n\u001b[1;32m    467\u001b[0m     model_out \u001b[39m=\u001b[39m \u001b[39mself\u001b[39m(\u001b[39m*\u001b[39mmodel_args, \u001b[39m*\u001b[39m\u001b[39m*\u001b[39mmodel_kwargs)\n\u001b[1;32m    468\u001b[0m     \u001b[39mif\u001b[39;00m incl_bwd:\n\u001b[0;32m--> 469\u001b[0m         model_out\u001b[39m.\u001b[39mbackward()\n\u001b[1;32m    471\u001b[0m \u001b[39mreturn\u001b[39;00m model_out, cache_dict\n",
      "File \u001b[0;32m/usr/lib/python3.9/contextlib.py:124\u001b[0m, in \u001b[0;36m_GeneratorContextManager.__exit__\u001b[0;34m(self, type, value, traceback)\u001b[0m\n\u001b[1;32m    122\u001b[0m \u001b[39mif\u001b[39;00m \u001b[39mtype\u001b[39m \u001b[39mis\u001b[39;00m \u001b[39mNone\u001b[39;00m:\n\u001b[1;32m    123\u001b[0m     \u001b[39mtry\u001b[39;00m:\n\u001b[0;32m--> 124\u001b[0m         \u001b[39mnext\u001b[39;49m(\u001b[39mself\u001b[39;49m\u001b[39m.\u001b[39;49mgen)\n\u001b[1;32m    125\u001b[0m     \u001b[39mexcept\u001b[39;00m \u001b[39mStopIteration\u001b[39;00m:\n\u001b[1;32m    126\u001b[0m         \u001b[39mreturn\u001b[39;00m \u001b[39mFalse\u001b[39;00m\n",
      "File \u001b[0;32m~/mip/venv/lib/python3.9/site-packages/transformer_lens/hook_points.py:322\u001b[0m, in \u001b[0;36mHookedRootModule.hooks\u001b[0;34m(self, fwd_hooks, bwd_hooks, reset_hooks_end, clear_contexts)\u001b[0m\n\u001b[1;32m    320\u001b[0m \u001b[39mfinally\u001b[39;00m:\n\u001b[1;32m    321\u001b[0m     \u001b[39mif\u001b[39;00m reset_hooks_end:\n\u001b[0;32m--> 322\u001b[0m         \u001b[39mself\u001b[39;49m\u001b[39m.\u001b[39;49mreset_hooks(\n\u001b[1;32m    323\u001b[0m             clear_contexts, including_permanent\u001b[39m=\u001b[39;49m\u001b[39mFalse\u001b[39;49;00m, level\u001b[39m=\u001b[39;49m\u001b[39mself\u001b[39;49m\u001b[39m.\u001b[39;49mcontext_level\n\u001b[1;32m    324\u001b[0m         )\n\u001b[1;32m    325\u001b[0m     \u001b[39mself\u001b[39m\u001b[39m.\u001b[39mcontext_level \u001b[39m-\u001b[39m\u001b[39m=\u001b[39m \u001b[39m1\u001b[39m\n",
      "File \u001b[0;32m~/mip/venv/lib/python3.9/site-packages/transformer_lens/hook_points.py:209\u001b[0m, in \u001b[0;36mHookedRootModule.reset_hooks\u001b[0;34m(self, clear_contexts, direction, including_permanent, level)\u001b[0m\n\u001b[1;32m    207\u001b[0m \u001b[39mif\u001b[39;00m clear_contexts:\n\u001b[1;32m    208\u001b[0m     \u001b[39mself\u001b[39m\u001b[39m.\u001b[39mclear_contexts()\n\u001b[0;32m--> 209\u001b[0m \u001b[39mself\u001b[39;49m\u001b[39m.\u001b[39;49mremove_all_hook_fns(direction, including_permanent, level\u001b[39m=\u001b[39;49mlevel)\n\u001b[1;32m    210\u001b[0m \u001b[39mself\u001b[39m\u001b[39m.\u001b[39mis_caching \u001b[39m=\u001b[39m \u001b[39mFalse\u001b[39;00m\n",
      "File \u001b[0;32m~/mip/venv/lib/python3.9/site-packages/transformer_lens/hook_points.py:192\u001b[0m, in \u001b[0;36mHookedRootModule.remove_all_hook_fns\u001b[0;34m(self, direction, including_permanent, level)\u001b[0m\n\u001b[1;32m    188\u001b[0m \u001b[39mdef\u001b[39;00m \u001b[39mremove_all_hook_fns\u001b[39m(\n\u001b[1;32m    189\u001b[0m     \u001b[39mself\u001b[39m, direction\u001b[39m=\u001b[39m\u001b[39m\"\u001b[39m\u001b[39mboth\u001b[39m\u001b[39m\"\u001b[39m, including_permanent\u001b[39m=\u001b[39m\u001b[39mFalse\u001b[39;00m, level\u001b[39m=\u001b[39m\u001b[39mNone\u001b[39;00m\n\u001b[1;32m    190\u001b[0m ):\n\u001b[1;32m    191\u001b[0m     \u001b[39mfor\u001b[39;00m hp \u001b[39min\u001b[39;00m \u001b[39mself\u001b[39m\u001b[39m.\u001b[39mhook_points():\n\u001b[0;32m--> 192\u001b[0m         hp\u001b[39m.\u001b[39;49mremove_hooks(\n\u001b[1;32m    193\u001b[0m             direction, including_permanent\u001b[39m=\u001b[39;49mincluding_permanent, level\u001b[39m=\u001b[39;49mlevel\n\u001b[1;32m    194\u001b[0m         )\n",
      "File \u001b[0;32m~/mip/venv/lib/python3.9/site-packages/transformer_lens/hook_points.py:119\u001b[0m, in \u001b[0;36mHookPoint.remove_hooks\u001b[0;34m(self, dir, including_permanent, level)\u001b[0m\n\u001b[1;32m    116\u001b[0m     \u001b[39mreturn\u001b[39;00m output_handles\n\u001b[1;32m    118\u001b[0m \u001b[39mif\u001b[39;00m \u001b[39mdir\u001b[39m \u001b[39m==\u001b[39m \u001b[39m\"\u001b[39m\u001b[39mfwd\u001b[39m\u001b[39m\"\u001b[39m \u001b[39mor\u001b[39;00m \u001b[39mdir\u001b[39m \u001b[39m==\u001b[39m \u001b[39m\"\u001b[39m\u001b[39mboth\u001b[39m\u001b[39m\"\u001b[39m:\n\u001b[0;32m--> 119\u001b[0m     \u001b[39mself\u001b[39m\u001b[39m.\u001b[39mfwd_hooks \u001b[39m=\u001b[39m _remove_hooks(\u001b[39mself\u001b[39;49m\u001b[39m.\u001b[39;49mfwd_hooks)\n\u001b[1;32m    120\u001b[0m \u001b[39mif\u001b[39;00m \u001b[39mdir\u001b[39m \u001b[39m==\u001b[39m \u001b[39m\"\u001b[39m\u001b[39mbwd\u001b[39m\u001b[39m\"\u001b[39m \u001b[39mor\u001b[39;00m \u001b[39mdir\u001b[39m \u001b[39m==\u001b[39m \u001b[39m\"\u001b[39m\u001b[39mboth\u001b[39m\u001b[39m\"\u001b[39m:\n\u001b[1;32m    121\u001b[0m     \u001b[39mself\u001b[39m\u001b[39m.\u001b[39mbwd_hooks \u001b[39m=\u001b[39m _remove_hooks(\u001b[39mself\u001b[39m\u001b[39m.\u001b[39mbwd_hooks)\n",
      "File \u001b[0;32m~/mip/venv/lib/python3.9/site-packages/transformer_lens/hook_points.py:113\u001b[0m, in \u001b[0;36mHookPoint.remove_hooks.<locals>._remove_hooks\u001b[0;34m(handles)\u001b[0m\n\u001b[1;32m    109\u001b[0m     handle\u001b[39m.\u001b[39mhook\u001b[39m.\u001b[39mremove()\n\u001b[1;32m    110\u001b[0m \u001b[39melif\u001b[39;00m (\u001b[39mnot\u001b[39;00m handle\u001b[39m.\u001b[39mis_permanent) \u001b[39mand\u001b[39;00m (\n\u001b[1;32m    111\u001b[0m     level \u001b[39mis\u001b[39;00m \u001b[39mNone\u001b[39;00m \u001b[39mor\u001b[39;00m handle\u001b[39m.\u001b[39mcontext_level \u001b[39m==\u001b[39m level\n\u001b[1;32m    112\u001b[0m ):\n\u001b[0;32m--> 113\u001b[0m     handle\u001b[39m.\u001b[39;49mhook\u001b[39m.\u001b[39;49mremove()\n\u001b[1;32m    114\u001b[0m \u001b[39melse\u001b[39;00m:\n\u001b[1;32m    115\u001b[0m     output_handles\u001b[39m.\u001b[39mappend(handle)\n",
      "File \u001b[0;32m~/mip/venv/lib/python3.9/site-packages/torch/utils/hooks.py:36\u001b[0m, in \u001b[0;36mRemovableHandle.remove\u001b[0;34m(self)\u001b[0m\n\u001b[1;32m     34\u001b[0m hooks_dict \u001b[39m=\u001b[39m \u001b[39mself\u001b[39m\u001b[39m.\u001b[39mhooks_dict_ref()\n\u001b[1;32m     35\u001b[0m \u001b[39mif\u001b[39;00m hooks_dict \u001b[39mis\u001b[39;00m \u001b[39mnot\u001b[39;00m \u001b[39mNone\u001b[39;00m \u001b[39mand\u001b[39;00m \u001b[39mself\u001b[39m\u001b[39m.\u001b[39mid \u001b[39min\u001b[39;00m hooks_dict:\n\u001b[0;32m---> 36\u001b[0m     \u001b[39mdel\u001b[39;00m hooks_dict[\u001b[39mself\u001b[39;49m\u001b[39m.\u001b[39;49mid]\n\u001b[1;32m     38\u001b[0m \u001b[39mif\u001b[39;00m \u001b[39mself\u001b[39m\u001b[39m.\u001b[39mextra_dict_ref \u001b[39mis\u001b[39;00m \u001b[39mnot\u001b[39;00m \u001b[39mNone\u001b[39;00m:\n\u001b[1;32m     39\u001b[0m     extra_dict \u001b[39m=\u001b[39m \u001b[39mself\u001b[39m\u001b[39m.\u001b[39mextra_dict_ref()\n",
      "\u001b[0;31mKeyboardInterrupt\u001b[0m: "
     ]
    }
   ],
   "source": [
    "simil_tuned_lens = generate_aitchisons_all(prompts, tuned_lens, tuned_lens_cb)[..., 0]\n",
    "simil_logit_lens = generate_aitchisons_all(prompts, logit_lens, logit_lens_cb)[..., 0]"
   ]
  },
  {
   "cell_type": "code",
   "execution_count": null,
   "metadata": {},
   "outputs": [
    {
     "data": {
      "application/vnd.plotly.v1+json": {
       "config": {
        "plotlyServerURL": "https://plot.ly"
       },
       "data": [
        {
         "hovertemplate": "variable=Logit Lens<br>X=%{x}<br>value=%{y}<extra></extra>",
         "legendgroup": "Logit Lens",
         "line": {
          "color": "blue",
          "dash": "solid"
         },
         "marker": {
          "symbol": "circle"
         },
         "mode": "lines",
         "name": "Logit Lens",
         "orientation": "v",
         "showlegend": true,
         "type": "scatter",
         "x": [
          1,
          2,
          3,
          4,
          5,
          6,
          7,
          8,
          9,
          10,
          11
         ],
         "xaxis": "x",
         "y": [
          0.24916393,
          0.32568568,
          0.2523588,
          0.40478277,
          0.4568039,
          0.5383091,
          0.57502717,
          0.5841169,
          0.60660195,
          0.7047734,
          0.6923954
         ],
         "yaxis": "y"
        },
        {
         "hovertemplate": "variable=Tuned Lens<br>X=%{x}<br>value=%{y}<extra></extra>",
         "legendgroup": "Tuned Lens",
         "line": {
          "color": "red",
          "dash": "solid"
         },
         "marker": {
          "symbol": "circle"
         },
         "mode": "lines",
         "name": "Tuned Lens",
         "orientation": "v",
         "showlegend": true,
         "type": "scatter",
         "x": [
          1,
          2,
          3,
          4,
          5,
          6,
          7,
          8,
          9,
          10,
          11
         ],
         "xaxis": "x",
         "y": [
          0.3160362,
          0.41366893,
          0.42405257,
          0.5375075,
          0.5560848,
          0.4658758,
          0.48112053,
          0.32327116,
          0.29067215,
          0.41615078,
          0.38740966
         ],
         "yaxis": "y"
        }
       ],
       "layout": {
        "legend": {
         "title": {
          "text": "variable"
         },
         "tracegroupgap": 0
        },
        "margin": {
         "t": 60
        },
        "template": {
         "data": {
          "bar": [
           {
            "error_x": {
             "color": "#2a3f5f"
            },
            "error_y": {
             "color": "#2a3f5f"
            },
            "marker": {
             "line": {
              "color": "#E5ECF6",
              "width": 0.5
             },
             "pattern": {
              "fillmode": "overlay",
              "size": 10,
              "solidity": 0.2
             }
            },
            "type": "bar"
           }
          ],
          "barpolar": [
           {
            "marker": {
             "line": {
              "color": "#E5ECF6",
              "width": 0.5
             },
             "pattern": {
              "fillmode": "overlay",
              "size": 10,
              "solidity": 0.2
             }
            },
            "type": "barpolar"
           }
          ],
          "carpet": [
           {
            "aaxis": {
             "endlinecolor": "#2a3f5f",
             "gridcolor": "white",
             "linecolor": "white",
             "minorgridcolor": "white",
             "startlinecolor": "#2a3f5f"
            },
            "baxis": {
             "endlinecolor": "#2a3f5f",
             "gridcolor": "white",
             "linecolor": "white",
             "minorgridcolor": "white",
             "startlinecolor": "#2a3f5f"
            },
            "type": "carpet"
           }
          ],
          "choropleth": [
           {
            "colorbar": {
             "outlinewidth": 0,
             "ticks": ""
            },
            "type": "choropleth"
           }
          ],
          "contour": [
           {
            "colorbar": {
             "outlinewidth": 0,
             "ticks": ""
            },
            "colorscale": [
             [
              0,
              "#0d0887"
             ],
             [
              0.1111111111111111,
              "#46039f"
             ],
             [
              0.2222222222222222,
              "#7201a8"
             ],
             [
              0.3333333333333333,
              "#9c179e"
             ],
             [
              0.4444444444444444,
              "#bd3786"
             ],
             [
              0.5555555555555556,
              "#d8576b"
             ],
             [
              0.6666666666666666,
              "#ed7953"
             ],
             [
              0.7777777777777778,
              "#fb9f3a"
             ],
             [
              0.8888888888888888,
              "#fdca26"
             ],
             [
              1,
              "#f0f921"
             ]
            ],
            "type": "contour"
           }
          ],
          "contourcarpet": [
           {
            "colorbar": {
             "outlinewidth": 0,
             "ticks": ""
            },
            "type": "contourcarpet"
           }
          ],
          "heatmap": [
           {
            "colorbar": {
             "outlinewidth": 0,
             "ticks": ""
            },
            "colorscale": [
             [
              0,
              "#0d0887"
             ],
             [
              0.1111111111111111,
              "#46039f"
             ],
             [
              0.2222222222222222,
              "#7201a8"
             ],
             [
              0.3333333333333333,
              "#9c179e"
             ],
             [
              0.4444444444444444,
              "#bd3786"
             ],
             [
              0.5555555555555556,
              "#d8576b"
             ],
             [
              0.6666666666666666,
              "#ed7953"
             ],
             [
              0.7777777777777778,
              "#fb9f3a"
             ],
             [
              0.8888888888888888,
              "#fdca26"
             ],
             [
              1,
              "#f0f921"
             ]
            ],
            "type": "heatmap"
           }
          ],
          "heatmapgl": [
           {
            "colorbar": {
             "outlinewidth": 0,
             "ticks": ""
            },
            "colorscale": [
             [
              0,
              "#0d0887"
             ],
             [
              0.1111111111111111,
              "#46039f"
             ],
             [
              0.2222222222222222,
              "#7201a8"
             ],
             [
              0.3333333333333333,
              "#9c179e"
             ],
             [
              0.4444444444444444,
              "#bd3786"
             ],
             [
              0.5555555555555556,
              "#d8576b"
             ],
             [
              0.6666666666666666,
              "#ed7953"
             ],
             [
              0.7777777777777778,
              "#fb9f3a"
             ],
             [
              0.8888888888888888,
              "#fdca26"
             ],
             [
              1,
              "#f0f921"
             ]
            ],
            "type": "heatmapgl"
           }
          ],
          "histogram": [
           {
            "marker": {
             "pattern": {
              "fillmode": "overlay",
              "size": 10,
              "solidity": 0.2
             }
            },
            "type": "histogram"
           }
          ],
          "histogram2d": [
           {
            "colorbar": {
             "outlinewidth": 0,
             "ticks": ""
            },
            "colorscale": [
             [
              0,
              "#0d0887"
             ],
             [
              0.1111111111111111,
              "#46039f"
             ],
             [
              0.2222222222222222,
              "#7201a8"
             ],
             [
              0.3333333333333333,
              "#9c179e"
             ],
             [
              0.4444444444444444,
              "#bd3786"
             ],
             [
              0.5555555555555556,
              "#d8576b"
             ],
             [
              0.6666666666666666,
              "#ed7953"
             ],
             [
              0.7777777777777778,
              "#fb9f3a"
             ],
             [
              0.8888888888888888,
              "#fdca26"
             ],
             [
              1,
              "#f0f921"
             ]
            ],
            "type": "histogram2d"
           }
          ],
          "histogram2dcontour": [
           {
            "colorbar": {
             "outlinewidth": 0,
             "ticks": ""
            },
            "colorscale": [
             [
              0,
              "#0d0887"
             ],
             [
              0.1111111111111111,
              "#46039f"
             ],
             [
              0.2222222222222222,
              "#7201a8"
             ],
             [
              0.3333333333333333,
              "#9c179e"
             ],
             [
              0.4444444444444444,
              "#bd3786"
             ],
             [
              0.5555555555555556,
              "#d8576b"
             ],
             [
              0.6666666666666666,
              "#ed7953"
             ],
             [
              0.7777777777777778,
              "#fb9f3a"
             ],
             [
              0.8888888888888888,
              "#fdca26"
             ],
             [
              1,
              "#f0f921"
             ]
            ],
            "type": "histogram2dcontour"
           }
          ],
          "mesh3d": [
           {
            "colorbar": {
             "outlinewidth": 0,
             "ticks": ""
            },
            "type": "mesh3d"
           }
          ],
          "parcoords": [
           {
            "line": {
             "colorbar": {
              "outlinewidth": 0,
              "ticks": ""
             }
            },
            "type": "parcoords"
           }
          ],
          "pie": [
           {
            "automargin": true,
            "type": "pie"
           }
          ],
          "scatter": [
           {
            "fillpattern": {
             "fillmode": "overlay",
             "size": 10,
             "solidity": 0.2
            },
            "type": "scatter"
           }
          ],
          "scatter3d": [
           {
            "line": {
             "colorbar": {
              "outlinewidth": 0,
              "ticks": ""
             }
            },
            "marker": {
             "colorbar": {
              "outlinewidth": 0,
              "ticks": ""
             }
            },
            "type": "scatter3d"
           }
          ],
          "scattercarpet": [
           {
            "marker": {
             "colorbar": {
              "outlinewidth": 0,
              "ticks": ""
             }
            },
            "type": "scattercarpet"
           }
          ],
          "scattergeo": [
           {
            "marker": {
             "colorbar": {
              "outlinewidth": 0,
              "ticks": ""
             }
            },
            "type": "scattergeo"
           }
          ],
          "scattergl": [
           {
            "marker": {
             "colorbar": {
              "outlinewidth": 0,
              "ticks": ""
             }
            },
            "type": "scattergl"
           }
          ],
          "scattermapbox": [
           {
            "marker": {
             "colorbar": {
              "outlinewidth": 0,
              "ticks": ""
             }
            },
            "type": "scattermapbox"
           }
          ],
          "scatterpolar": [
           {
            "marker": {
             "colorbar": {
              "outlinewidth": 0,
              "ticks": ""
             }
            },
            "type": "scatterpolar"
           }
          ],
          "scatterpolargl": [
           {
            "marker": {
             "colorbar": {
              "outlinewidth": 0,
              "ticks": ""
             }
            },
            "type": "scatterpolargl"
           }
          ],
          "scatterternary": [
           {
            "marker": {
             "colorbar": {
              "outlinewidth": 0,
              "ticks": ""
             }
            },
            "type": "scatterternary"
           }
          ],
          "surface": [
           {
            "colorbar": {
             "outlinewidth": 0,
             "ticks": ""
            },
            "colorscale": [
             [
              0,
              "#0d0887"
             ],
             [
              0.1111111111111111,
              "#46039f"
             ],
             [
              0.2222222222222222,
              "#7201a8"
             ],
             [
              0.3333333333333333,
              "#9c179e"
             ],
             [
              0.4444444444444444,
              "#bd3786"
             ],
             [
              0.5555555555555556,
              "#d8576b"
             ],
             [
              0.6666666666666666,
              "#ed7953"
             ],
             [
              0.7777777777777778,
              "#fb9f3a"
             ],
             [
              0.8888888888888888,
              "#fdca26"
             ],
             [
              1,
              "#f0f921"
             ]
            ],
            "type": "surface"
           }
          ],
          "table": [
           {
            "cells": {
             "fill": {
              "color": "#EBF0F8"
             },
             "line": {
              "color": "white"
             }
            },
            "header": {
             "fill": {
              "color": "#C8D4E3"
             },
             "line": {
              "color": "white"
             }
            },
            "type": "table"
           }
          ]
         },
         "layout": {
          "annotationdefaults": {
           "arrowcolor": "#2a3f5f",
           "arrowhead": 0,
           "arrowwidth": 1
          },
          "autotypenumbers": "strict",
          "coloraxis": {
           "colorbar": {
            "outlinewidth": 0,
            "ticks": ""
           }
          },
          "colorscale": {
           "diverging": [
            [
             0,
             "#8e0152"
            ],
            [
             0.1,
             "#c51b7d"
            ],
            [
             0.2,
             "#de77ae"
            ],
            [
             0.3,
             "#f1b6da"
            ],
            [
             0.4,
             "#fde0ef"
            ],
            [
             0.5,
             "#f7f7f7"
            ],
            [
             0.6,
             "#e6f5d0"
            ],
            [
             0.7,
             "#b8e186"
            ],
            [
             0.8,
             "#7fbc41"
            ],
            [
             0.9,
             "#4d9221"
            ],
            [
             1,
             "#276419"
            ]
           ],
           "sequential": [
            [
             0,
             "#0d0887"
            ],
            [
             0.1111111111111111,
             "#46039f"
            ],
            [
             0.2222222222222222,
             "#7201a8"
            ],
            [
             0.3333333333333333,
             "#9c179e"
            ],
            [
             0.4444444444444444,
             "#bd3786"
            ],
            [
             0.5555555555555556,
             "#d8576b"
            ],
            [
             0.6666666666666666,
             "#ed7953"
            ],
            [
             0.7777777777777778,
             "#fb9f3a"
            ],
            [
             0.8888888888888888,
             "#fdca26"
            ],
            [
             1,
             "#f0f921"
            ]
           ],
           "sequentialminus": [
            [
             0,
             "#0d0887"
            ],
            [
             0.1111111111111111,
             "#46039f"
            ],
            [
             0.2222222222222222,
             "#7201a8"
            ],
            [
             0.3333333333333333,
             "#9c179e"
            ],
            [
             0.4444444444444444,
             "#bd3786"
            ],
            [
             0.5555555555555556,
             "#d8576b"
            ],
            [
             0.6666666666666666,
             "#ed7953"
            ],
            [
             0.7777777777777778,
             "#fb9f3a"
            ],
            [
             0.8888888888888888,
             "#fdca26"
            ],
            [
             1,
             "#f0f921"
            ]
           ]
          },
          "colorway": [
           "#636efa",
           "#EF553B",
           "#00cc96",
           "#ab63fa",
           "#FFA15A",
           "#19d3f3",
           "#FF6692",
           "#B6E880",
           "#FF97FF",
           "#FECB52"
          ],
          "font": {
           "color": "#2a3f5f"
          },
          "geo": {
           "bgcolor": "white",
           "lakecolor": "white",
           "landcolor": "#E5ECF6",
           "showlakes": true,
           "showland": true,
           "subunitcolor": "white"
          },
          "hoverlabel": {
           "align": "left"
          },
          "hovermode": "closest",
          "mapbox": {
           "style": "light"
          },
          "paper_bgcolor": "white",
          "plot_bgcolor": "#E5ECF6",
          "polar": {
           "angularaxis": {
            "gridcolor": "white",
            "linecolor": "white",
            "ticks": ""
           },
           "bgcolor": "#E5ECF6",
           "radialaxis": {
            "gridcolor": "white",
            "linecolor": "white",
            "ticks": ""
           }
          },
          "scene": {
           "xaxis": {
            "backgroundcolor": "#E5ECF6",
            "gridcolor": "white",
            "gridwidth": 2,
            "linecolor": "white",
            "showbackground": true,
            "ticks": "",
            "zerolinecolor": "white"
           },
           "yaxis": {
            "backgroundcolor": "#E5ECF6",
            "gridcolor": "white",
            "gridwidth": 2,
            "linecolor": "white",
            "showbackground": true,
            "ticks": "",
            "zerolinecolor": "white"
           },
           "zaxis": {
            "backgroundcolor": "#E5ECF6",
            "gridcolor": "white",
            "gridwidth": 2,
            "linecolor": "white",
            "showbackground": true,
            "ticks": "",
            "zerolinecolor": "white"
           }
          },
          "shapedefaults": {
           "line": {
            "color": "#2a3f5f"
           }
          },
          "ternary": {
           "aaxis": {
            "gridcolor": "white",
            "linecolor": "white",
            "ticks": ""
           },
           "baxis": {
            "gridcolor": "white",
            "linecolor": "white",
            "ticks": ""
           },
           "bgcolor": "#E5ECF6",
           "caxis": {
            "gridcolor": "white",
            "linecolor": "white",
            "ticks": ""
           }
          },
          "title": {
           "x": 0.05
          },
          "xaxis": {
           "automargin": true,
           "gridcolor": "white",
           "linecolor": "white",
           "ticks": "",
           "title": {
            "standoff": 15
           },
           "zerolinecolor": "white",
           "zerolinewidth": 2
          },
          "yaxis": {
           "automargin": true,
           "gridcolor": "white",
           "linecolor": "white",
           "ticks": "",
           "title": {
            "standoff": 15
           },
           "zerolinecolor": "white",
           "zerolinewidth": 2
          }
         }
        },
        "xaxis": {
         "anchor": "y",
         "domain": [
          0,
          1
         ],
         "title": {
          "text": "X"
         }
        },
        "yaxis": {
         "anchor": "x",
         "domain": [
          0,
          1
         ],
         "title": {
          "text": "value"
         }
        }
       }
      },
      "text/html": [
       "<div>                            <div id=\"26540fb9-f45e-4cf0-bca1-d7da793e6eee\" class=\"plotly-graph-div\" style=\"height:525px; width:100%;\"></div>            <script type=\"text/javascript\">                require([\"plotly\"], function(Plotly) {                    window.PLOTLYENV=window.PLOTLYENV || {};                                    if (document.getElementById(\"26540fb9-f45e-4cf0-bca1-d7da793e6eee\")) {                    Plotly.newPlot(                        \"26540fb9-f45e-4cf0-bca1-d7da793e6eee\",                        [{\"hovertemplate\":\"variable=Logit Lens\\u003cbr\\u003eX=%{x}\\u003cbr\\u003evalue=%{y}\\u003cextra\\u003e\\u003c\\u002fextra\\u003e\",\"legendgroup\":\"Logit Lens\",\"line\":{\"color\":\"blue\",\"dash\":\"solid\"},\"marker\":{\"symbol\":\"circle\"},\"mode\":\"lines\",\"name\":\"Logit Lens\",\"orientation\":\"v\",\"showlegend\":true,\"x\":[1,2,3,4,5,6,7,8,9,10,11],\"xaxis\":\"x\",\"y\":[0.24916393,0.32568568,0.2523588,0.40478277,0.4568039,0.5383091,0.57502717,0.5841169,0.60660195,0.7047734,0.6923954],\"yaxis\":\"y\",\"type\":\"scatter\"},{\"hovertemplate\":\"variable=Tuned Lens\\u003cbr\\u003eX=%{x}\\u003cbr\\u003evalue=%{y}\\u003cextra\\u003e\\u003c\\u002fextra\\u003e\",\"legendgroup\":\"Tuned Lens\",\"line\":{\"color\":\"red\",\"dash\":\"solid\"},\"marker\":{\"symbol\":\"circle\"},\"mode\":\"lines\",\"name\":\"Tuned Lens\",\"orientation\":\"v\",\"showlegend\":true,\"x\":[1,2,3,4,5,6,7,8,9,10,11],\"xaxis\":\"x\",\"y\":[0.3160362,0.41366893,0.42405257,0.5375075,0.5560848,0.4658758,0.48112053,0.32327116,0.29067215,0.41615078,0.38740966],\"yaxis\":\"y\",\"type\":\"scatter\"}],                        {\"template\":{\"data\":{\"histogram2dcontour\":[{\"type\":\"histogram2dcontour\",\"colorbar\":{\"outlinewidth\":0,\"ticks\":\"\"},\"colorscale\":[[0.0,\"#0d0887\"],[0.1111111111111111,\"#46039f\"],[0.2222222222222222,\"#7201a8\"],[0.3333333333333333,\"#9c179e\"],[0.4444444444444444,\"#bd3786\"],[0.5555555555555556,\"#d8576b\"],[0.6666666666666666,\"#ed7953\"],[0.7777777777777778,\"#fb9f3a\"],[0.8888888888888888,\"#fdca26\"],[1.0,\"#f0f921\"]]}],\"choropleth\":[{\"type\":\"choropleth\",\"colorbar\":{\"outlinewidth\":0,\"ticks\":\"\"}}],\"histogram2d\":[{\"type\":\"histogram2d\",\"colorbar\":{\"outlinewidth\":0,\"ticks\":\"\"},\"colorscale\":[[0.0,\"#0d0887\"],[0.1111111111111111,\"#46039f\"],[0.2222222222222222,\"#7201a8\"],[0.3333333333333333,\"#9c179e\"],[0.4444444444444444,\"#bd3786\"],[0.5555555555555556,\"#d8576b\"],[0.6666666666666666,\"#ed7953\"],[0.7777777777777778,\"#fb9f3a\"],[0.8888888888888888,\"#fdca26\"],[1.0,\"#f0f921\"]]}],\"heatmap\":[{\"type\":\"heatmap\",\"colorbar\":{\"outlinewidth\":0,\"ticks\":\"\"},\"colorscale\":[[0.0,\"#0d0887\"],[0.1111111111111111,\"#46039f\"],[0.2222222222222222,\"#7201a8\"],[0.3333333333333333,\"#9c179e\"],[0.4444444444444444,\"#bd3786\"],[0.5555555555555556,\"#d8576b\"],[0.6666666666666666,\"#ed7953\"],[0.7777777777777778,\"#fb9f3a\"],[0.8888888888888888,\"#fdca26\"],[1.0,\"#f0f921\"]]}],\"heatmapgl\":[{\"type\":\"heatmapgl\",\"colorbar\":{\"outlinewidth\":0,\"ticks\":\"\"},\"colorscale\":[[0.0,\"#0d0887\"],[0.1111111111111111,\"#46039f\"],[0.2222222222222222,\"#7201a8\"],[0.3333333333333333,\"#9c179e\"],[0.4444444444444444,\"#bd3786\"],[0.5555555555555556,\"#d8576b\"],[0.6666666666666666,\"#ed7953\"],[0.7777777777777778,\"#fb9f3a\"],[0.8888888888888888,\"#fdca26\"],[1.0,\"#f0f921\"]]}],\"contourcarpet\":[{\"type\":\"contourcarpet\",\"colorbar\":{\"outlinewidth\":0,\"ticks\":\"\"}}],\"contour\":[{\"type\":\"contour\",\"colorbar\":{\"outlinewidth\":0,\"ticks\":\"\"},\"colorscale\":[[0.0,\"#0d0887\"],[0.1111111111111111,\"#46039f\"],[0.2222222222222222,\"#7201a8\"],[0.3333333333333333,\"#9c179e\"],[0.4444444444444444,\"#bd3786\"],[0.5555555555555556,\"#d8576b\"],[0.6666666666666666,\"#ed7953\"],[0.7777777777777778,\"#fb9f3a\"],[0.8888888888888888,\"#fdca26\"],[1.0,\"#f0f921\"]]}],\"surface\":[{\"type\":\"surface\",\"colorbar\":{\"outlinewidth\":0,\"ticks\":\"\"},\"colorscale\":[[0.0,\"#0d0887\"],[0.1111111111111111,\"#46039f\"],[0.2222222222222222,\"#7201a8\"],[0.3333333333333333,\"#9c179e\"],[0.4444444444444444,\"#bd3786\"],[0.5555555555555556,\"#d8576b\"],[0.6666666666666666,\"#ed7953\"],[0.7777777777777778,\"#fb9f3a\"],[0.8888888888888888,\"#fdca26\"],[1.0,\"#f0f921\"]]}],\"mesh3d\":[{\"type\":\"mesh3d\",\"colorbar\":{\"outlinewidth\":0,\"ticks\":\"\"}}],\"scatter\":[{\"fillpattern\":{\"fillmode\":\"overlay\",\"size\":10,\"solidity\":0.2},\"type\":\"scatter\"}],\"parcoords\":[{\"type\":\"parcoords\",\"line\":{\"colorbar\":{\"outlinewidth\":0,\"ticks\":\"\"}}}],\"scatterpolargl\":[{\"type\":\"scatterpolargl\",\"marker\":{\"colorbar\":{\"outlinewidth\":0,\"ticks\":\"\"}}}],\"bar\":[{\"error_x\":{\"color\":\"#2a3f5f\"},\"error_y\":{\"color\":\"#2a3f5f\"},\"marker\":{\"line\":{\"color\":\"#E5ECF6\",\"width\":0.5},\"pattern\":{\"fillmode\":\"overlay\",\"size\":10,\"solidity\":0.2}},\"type\":\"bar\"}],\"scattergeo\":[{\"type\":\"scattergeo\",\"marker\":{\"colorbar\":{\"outlinewidth\":0,\"ticks\":\"\"}}}],\"scatterpolar\":[{\"type\":\"scatterpolar\",\"marker\":{\"colorbar\":{\"outlinewidth\":0,\"ticks\":\"\"}}}],\"histogram\":[{\"marker\":{\"pattern\":{\"fillmode\":\"overlay\",\"size\":10,\"solidity\":0.2}},\"type\":\"histogram\"}],\"scattergl\":[{\"type\":\"scattergl\",\"marker\":{\"colorbar\":{\"outlinewidth\":0,\"ticks\":\"\"}}}],\"scatter3d\":[{\"type\":\"scatter3d\",\"line\":{\"colorbar\":{\"outlinewidth\":0,\"ticks\":\"\"}},\"marker\":{\"colorbar\":{\"outlinewidth\":0,\"ticks\":\"\"}}}],\"scattermapbox\":[{\"type\":\"scattermapbox\",\"marker\":{\"colorbar\":{\"outlinewidth\":0,\"ticks\":\"\"}}}],\"scatterternary\":[{\"type\":\"scatterternary\",\"marker\":{\"colorbar\":{\"outlinewidth\":0,\"ticks\":\"\"}}}],\"scattercarpet\":[{\"type\":\"scattercarpet\",\"marker\":{\"colorbar\":{\"outlinewidth\":0,\"ticks\":\"\"}}}],\"carpet\":[{\"aaxis\":{\"endlinecolor\":\"#2a3f5f\",\"gridcolor\":\"white\",\"linecolor\":\"white\",\"minorgridcolor\":\"white\",\"startlinecolor\":\"#2a3f5f\"},\"baxis\":{\"endlinecolor\":\"#2a3f5f\",\"gridcolor\":\"white\",\"linecolor\":\"white\",\"minorgridcolor\":\"white\",\"startlinecolor\":\"#2a3f5f\"},\"type\":\"carpet\"}],\"table\":[{\"cells\":{\"fill\":{\"color\":\"#EBF0F8\"},\"line\":{\"color\":\"white\"}},\"header\":{\"fill\":{\"color\":\"#C8D4E3\"},\"line\":{\"color\":\"white\"}},\"type\":\"table\"}],\"barpolar\":[{\"marker\":{\"line\":{\"color\":\"#E5ECF6\",\"width\":0.5},\"pattern\":{\"fillmode\":\"overlay\",\"size\":10,\"solidity\":0.2}},\"type\":\"barpolar\"}],\"pie\":[{\"automargin\":true,\"type\":\"pie\"}]},\"layout\":{\"autotypenumbers\":\"strict\",\"colorway\":[\"#636efa\",\"#EF553B\",\"#00cc96\",\"#ab63fa\",\"#FFA15A\",\"#19d3f3\",\"#FF6692\",\"#B6E880\",\"#FF97FF\",\"#FECB52\"],\"font\":{\"color\":\"#2a3f5f\"},\"hovermode\":\"closest\",\"hoverlabel\":{\"align\":\"left\"},\"paper_bgcolor\":\"white\",\"plot_bgcolor\":\"#E5ECF6\",\"polar\":{\"bgcolor\":\"#E5ECF6\",\"angularaxis\":{\"gridcolor\":\"white\",\"linecolor\":\"white\",\"ticks\":\"\"},\"radialaxis\":{\"gridcolor\":\"white\",\"linecolor\":\"white\",\"ticks\":\"\"}},\"ternary\":{\"bgcolor\":\"#E5ECF6\",\"aaxis\":{\"gridcolor\":\"white\",\"linecolor\":\"white\",\"ticks\":\"\"},\"baxis\":{\"gridcolor\":\"white\",\"linecolor\":\"white\",\"ticks\":\"\"},\"caxis\":{\"gridcolor\":\"white\",\"linecolor\":\"white\",\"ticks\":\"\"}},\"coloraxis\":{\"colorbar\":{\"outlinewidth\":0,\"ticks\":\"\"}},\"colorscale\":{\"sequential\":[[0.0,\"#0d0887\"],[0.1111111111111111,\"#46039f\"],[0.2222222222222222,\"#7201a8\"],[0.3333333333333333,\"#9c179e\"],[0.4444444444444444,\"#bd3786\"],[0.5555555555555556,\"#d8576b\"],[0.6666666666666666,\"#ed7953\"],[0.7777777777777778,\"#fb9f3a\"],[0.8888888888888888,\"#fdca26\"],[1.0,\"#f0f921\"]],\"sequentialminus\":[[0.0,\"#0d0887\"],[0.1111111111111111,\"#46039f\"],[0.2222222222222222,\"#7201a8\"],[0.3333333333333333,\"#9c179e\"],[0.4444444444444444,\"#bd3786\"],[0.5555555555555556,\"#d8576b\"],[0.6666666666666666,\"#ed7953\"],[0.7777777777777778,\"#fb9f3a\"],[0.8888888888888888,\"#fdca26\"],[1.0,\"#f0f921\"]],\"diverging\":[[0,\"#8e0152\"],[0.1,\"#c51b7d\"],[0.2,\"#de77ae\"],[0.3,\"#f1b6da\"],[0.4,\"#fde0ef\"],[0.5,\"#f7f7f7\"],[0.6,\"#e6f5d0\"],[0.7,\"#b8e186\"],[0.8,\"#7fbc41\"],[0.9,\"#4d9221\"],[1,\"#276419\"]]},\"xaxis\":{\"gridcolor\":\"white\",\"linecolor\":\"white\",\"ticks\":\"\",\"title\":{\"standoff\":15},\"zerolinecolor\":\"white\",\"automargin\":true,\"zerolinewidth\":2},\"yaxis\":{\"gridcolor\":\"white\",\"linecolor\":\"white\",\"ticks\":\"\",\"title\":{\"standoff\":15},\"zerolinecolor\":\"white\",\"automargin\":true,\"zerolinewidth\":2},\"scene\":{\"xaxis\":{\"backgroundcolor\":\"#E5ECF6\",\"gridcolor\":\"white\",\"linecolor\":\"white\",\"showbackground\":true,\"ticks\":\"\",\"zerolinecolor\":\"white\",\"gridwidth\":2},\"yaxis\":{\"backgroundcolor\":\"#E5ECF6\",\"gridcolor\":\"white\",\"linecolor\":\"white\",\"showbackground\":true,\"ticks\":\"\",\"zerolinecolor\":\"white\",\"gridwidth\":2},\"zaxis\":{\"backgroundcolor\":\"#E5ECF6\",\"gridcolor\":\"white\",\"linecolor\":\"white\",\"showbackground\":true,\"ticks\":\"\",\"zerolinecolor\":\"white\",\"gridwidth\":2}},\"shapedefaults\":{\"line\":{\"color\":\"#2a3f5f\"}},\"annotationdefaults\":{\"arrowcolor\":\"#2a3f5f\",\"arrowhead\":0,\"arrowwidth\":1},\"geo\":{\"bgcolor\":\"white\",\"landcolor\":\"#E5ECF6\",\"subunitcolor\":\"white\",\"showland\":true,\"showlakes\":true,\"lakecolor\":\"white\"},\"title\":{\"x\":0.05},\"mapbox\":{\"style\":\"light\"}}},\"xaxis\":{\"anchor\":\"y\",\"domain\":[0.0,1.0],\"title\":{\"text\":\"X\"}},\"yaxis\":{\"anchor\":\"x\",\"domain\":[0.0,1.0],\"title\":{\"text\":\"value\"}},\"legend\":{\"title\":{\"text\":\"variable\"},\"tracegroupgap\":0},\"margin\":{\"t\":60}},                        {\"responsive\": true}                    ).then(function(){\n",
       "                            \n",
       "var gd = document.getElementById('26540fb9-f45e-4cf0-bca1-d7da793e6eee');\n",
       "var x = new MutationObserver(function (mutations, observer) {{\n",
       "        var display = window.getComputedStyle(gd).display;\n",
       "        if (!display || display === 'none') {{\n",
       "            console.log([gd, 'removed!']);\n",
       "            Plotly.purge(gd);\n",
       "            observer.disconnect();\n",
       "        }}\n",
       "}});\n",
       "\n",
       "// Listen for the removal of the full notebook cells\n",
       "var notebookContainer = gd.closest('#notebook-container');\n",
       "if (notebookContainer) {{\n",
       "    x.observe(notebookContainer, {childList: true});\n",
       "}}\n",
       "\n",
       "// Listen for the clearing of the current output cell\n",
       "var outputEl = gd.closest('.output');\n",
       "if (outputEl) {{\n",
       "    x.observe(outputEl, {childList: true});\n",
       "}}\n",
       "\n",
       "                        })                };                });            </script>        </div>"
      ]
     },
     "metadata": {},
     "output_type": "display_data"
    }
   ],
   "source": [
    "import torch\n",
    "import plotly.express as px\n",
    "\n",
    "# Create PyTorch tensors\n",
    "tensor1 = torch.mean(simil_logit_lens, dim = 0)\n",
    "tensor2 = torch.mean(simil_tuned_lens, dim = 0)\n",
    "\n",
    "# Create a DataFrame with the data\n",
    "import pandas as pd\n",
    "df = pd.DataFrame({\n",
    "    'X': range(1, len(tensor1) + 1),\n",
    "    'Logit Lens': tensor1.cpu().detach().numpy(),\n",
    "    'Tuned Lens': tensor2.cpu().detach().numpy()\n",
    "})\n",
    "\n",
    "# Plot the lines with color\n",
    "fig = px.line(df, x='X', y=['Logit Lens', 'Tuned Lens'], color_discrete_map={'Logit Lens': 'blue', 'Tuned Lens': 'red'})\n",
    "\n",
    "# Show the plot\n",
    "fig.show()"
   ]
  },
  {
   "cell_type": "code",
   "execution_count": null,
   "metadata": {},
   "outputs": [],
   "source": []
  }
 ],
 "metadata": {
  "kernelspec": {
   "display_name": "venv",
   "language": "python",
   "name": "python3"
  },
  "language_info": {
   "codemirror_mode": {
    "name": "ipython",
    "version": 3
   },
   "file_extension": ".py",
   "mimetype": "text/x-python",
   "name": "python",
   "nbconvert_exporter": "python",
   "pygments_lexer": "ipython3",
   "version": "3.9.2"
  }
 },
 "nbformat": 4,
 "nbformat_minor": 2
}
